{
  "nbformat": 4,
  "nbformat_minor": 0,
  "metadata": {
    "kernelspec": {
      "display_name": "Python 3",
      "language": "python",
      "name": "python3"
    },
    "language_info": {
      "codemirror_mode": {
        "name": "ipython",
        "version": 3
      },
      "file_extension": ".py",
      "mimetype": "text/x-python",
      "name": "python",
      "nbconvert_exporter": "python",
      "pygments_lexer": "ipython3",
      "version": "3.7.4"
    },
    "colab": {
      "name": "RFM Analysis.ipynb",
      "provenance": [],
      "toc_visible": true,
      "include_colab_link": true
    }
  },
  "cells": [
    {
      "cell_type": "markdown",
      "metadata": {
        "id": "view-in-github",
        "colab_type": "text"
      },
      "source": [
        "<a href=\"https://colab.research.google.com/github/infinitebhat/Data-Science-Practice-Excercises/blob/master/RFM_Analysis.ipynb\" target=\"_parent\"><img src=\"https://colab.research.google.com/assets/colab-badge.svg\" alt=\"Open In Colab\"/></a>"
      ]
    },
    {
      "cell_type": "markdown",
      "metadata": {
        "id": "bx0SqSw-OUQR"
      },
      "source": [
        "# **KPMG Virtual Internship Program- Business consultant**"
      ]
    },
    {
      "cell_type": "code",
      "metadata": {
        "id": "ilp86XaNOUQU"
      },
      "source": [
        "import pandas as pd\n",
        "import numpy as np\n",
        "import matplotlib.pyplot as plt\n",
        "import datetime\n",
        "from datetime import timedelta\n",
        "import seaborn as sns"
      ],
      "execution_count": 4,
      "outputs": []
    },
    {
      "cell_type": "code",
      "metadata": {
        "id": "ybKeqhvvaAf1",
        "outputId": "1a3d93f5-03ed-4f5c-b4fd-e0f27abb7a90",
        "colab": {
          "base_uri": "https://localhost:8080/"
        }
      },
      "source": [
        "!pip install squarify"
      ],
      "execution_count": 3,
      "outputs": [
        {
          "output_type": "stream",
          "text": [
            "Collecting squarify\n",
            "  Downloading https://files.pythonhosted.org/packages/0b/2b/2e77c35326efec19819cd1d729540d4d235e6c2a3f37658288a363a67da5/squarify-0.4.3-py3-none-any.whl\n",
            "Installing collected packages: squarify\n",
            "Successfully installed squarify-0.4.3\n"
          ],
          "name": "stdout"
        }
      ]
    },
    {
      "cell_type": "code",
      "metadata": {
        "id": "burzFY0JaF7o"
      },
      "source": [
        "import squarify"
      ],
      "execution_count": 5,
      "outputs": []
    },
    {
      "cell_type": "code",
      "metadata": {
        "id": "xkRS9-UvOUQZ"
      },
      "source": [
        "df= pd.ExcelFile(\"/content/kpmg_raw_data.xlsx\")"
      ],
      "execution_count": 7,
      "outputs": []
    },
    {
      "cell_type": "code",
      "metadata": {
        "id": "TqQwCePKOUQc",
        "outputId": "c440d4f7-5123-4737-811e-c69433d2d381",
        "colab": {
          "base_uri": "https://localhost:8080/"
        }
      },
      "source": [
        "df.sheet_names"
      ],
      "execution_count": 8,
      "outputs": [
        {
          "output_type": "execute_result",
          "data": {
            "text/plain": [
              "['Title Sheet',\n",
              " 'CustomerDemographic',\n",
              " 'CustomerAddress',\n",
              " 'rfm',\n",
              " 'Transactions',\n",
              " 'NewCustomerList']"
            ]
          },
          "metadata": {
            "tags": []
          },
          "execution_count": 8
        }
      ]
    },
    {
      "cell_type": "markdown",
      "metadata": {
        "id": "YWasxpT1OUQe"
      },
      "source": [
        "#VISUALIZATION OF CUSTOMER DEMOGRAPHIC INFORMATIONS"
      ]
    },
    {
      "cell_type": "markdown",
      "metadata": {
        "id": "sQKgOnSUOUQe"
      },
      "source": [
        "Let dfd be dataframe for CustomerDemographic"
      ]
    },
    {
      "cell_type": "code",
      "metadata": {
        "scrolled": true,
        "id": "2ujdNzJoOUQf",
        "outputId": "deace895-bbac-4964-d51c-c169996a1d88",
        "colab": {
          "base_uri": "https://localhost:8080/",
          "height": 309
        }
      },
      "source": [
        "df= pd.read_excel(\"/content/kpmg_raw_data.xlsx\", sheet_name=\"CustomerDemographic\")\n",
        "df.head()"
      ],
      "execution_count": 9,
      "outputs": [
        {
          "output_type": "execute_result",
          "data": {
            "text/html": [
              "<div>\n",
              "<style scoped>\n",
              "    .dataframe tbody tr th:only-of-type {\n",
              "        vertical-align: middle;\n",
              "    }\n",
              "\n",
              "    .dataframe tbody tr th {\n",
              "        vertical-align: top;\n",
              "    }\n",
              "\n",
              "    .dataframe thead th {\n",
              "        text-align: right;\n",
              "    }\n",
              "</style>\n",
              "<table border=\"1\" class=\"dataframe\">\n",
              "  <thead>\n",
              "    <tr style=\"text-align: right;\">\n",
              "      <th></th>\n",
              "      <th>customer_id</th>\n",
              "      <th>first_name</th>\n",
              "      <th>last_name</th>\n",
              "      <th>gender</th>\n",
              "      <th>past_3_years_bike_related_purchases</th>\n",
              "      <th>DOB</th>\n",
              "      <th>Age</th>\n",
              "      <th>job_title</th>\n",
              "      <th>job_industry_category</th>\n",
              "      <th>wealth_segment</th>\n",
              "      <th>deceased_indicator</th>\n",
              "      <th>owns_car</th>\n",
              "      <th>tenure</th>\n",
              "    </tr>\n",
              "  </thead>\n",
              "  <tbody>\n",
              "    <tr>\n",
              "      <th>0</th>\n",
              "      <td>1</td>\n",
              "      <td>Laraine</td>\n",
              "      <td>Medendorp</td>\n",
              "      <td>Female</td>\n",
              "      <td>93</td>\n",
              "      <td>1953-10-12</td>\n",
              "      <td>66.993833</td>\n",
              "      <td>Executive Secretary</td>\n",
              "      <td>Health</td>\n",
              "      <td>Mass Customer</td>\n",
              "      <td>N</td>\n",
              "      <td>Yes</td>\n",
              "      <td>11.0</td>\n",
              "    </tr>\n",
              "    <tr>\n",
              "      <th>1</th>\n",
              "      <td>2</td>\n",
              "      <td>Eli</td>\n",
              "      <td>Bockman</td>\n",
              "      <td>Male</td>\n",
              "      <td>81</td>\n",
              "      <td>1980-12-16</td>\n",
              "      <td>39.796573</td>\n",
              "      <td>Administrative Officer</td>\n",
              "      <td>Financial Services</td>\n",
              "      <td>Mass Customer</td>\n",
              "      <td>N</td>\n",
              "      <td>Yes</td>\n",
              "      <td>16.0</td>\n",
              "    </tr>\n",
              "    <tr>\n",
              "      <th>2</th>\n",
              "      <td>3</td>\n",
              "      <td>Arlin</td>\n",
              "      <td>Dearle</td>\n",
              "      <td>Male</td>\n",
              "      <td>61</td>\n",
              "      <td>1954-01-20</td>\n",
              "      <td>66.719861</td>\n",
              "      <td>Recruiting Manager</td>\n",
              "      <td>Property</td>\n",
              "      <td>Mass Customer</td>\n",
              "      <td>N</td>\n",
              "      <td>Yes</td>\n",
              "      <td>15.0</td>\n",
              "    </tr>\n",
              "    <tr>\n",
              "      <th>3</th>\n",
              "      <td>4</td>\n",
              "      <td>Talbot</td>\n",
              "      <td>NaN</td>\n",
              "      <td>Male</td>\n",
              "      <td>33</td>\n",
              "      <td>1961-10-03</td>\n",
              "      <td>59.013011</td>\n",
              "      <td>Not Specified</td>\n",
              "      <td>IT</td>\n",
              "      <td>Mass Customer</td>\n",
              "      <td>N</td>\n",
              "      <td>No</td>\n",
              "      <td>7.0</td>\n",
              "    </tr>\n",
              "    <tr>\n",
              "      <th>4</th>\n",
              "      <td>5</td>\n",
              "      <td>Sheila-kathryn</td>\n",
              "      <td>Calton</td>\n",
              "      <td>Female</td>\n",
              "      <td>56</td>\n",
              "      <td>1977-05-13</td>\n",
              "      <td>43.393833</td>\n",
              "      <td>Senior Editor</td>\n",
              "      <td>NaN</td>\n",
              "      <td>Affluent Customer</td>\n",
              "      <td>N</td>\n",
              "      <td>Yes</td>\n",
              "      <td>8.0</td>\n",
              "    </tr>\n",
              "  </tbody>\n",
              "</table>\n",
              "</div>"
            ],
            "text/plain": [
              "   customer_id      first_name  last_name  ... deceased_indicator  owns_car tenure\n",
              "0            1         Laraine  Medendorp  ...                  N       Yes   11.0\n",
              "1            2             Eli    Bockman  ...                  N       Yes   16.0\n",
              "2            3           Arlin     Dearle  ...                  N       Yes   15.0\n",
              "3            4          Talbot        NaN  ...                  N        No    7.0\n",
              "4            5  Sheila-kathryn     Calton  ...                  N       Yes    8.0\n",
              "\n",
              "[5 rows x 13 columns]"
            ]
          },
          "metadata": {
            "tags": []
          },
          "execution_count": 9
        }
      ]
    },
    {
      "cell_type": "code",
      "metadata": {
        "id": "7ChiIPWuOUQk",
        "outputId": "83242bfb-85da-43dd-864e-e3c1e2ff240a",
        "colab": {
          "base_uri": "https://localhost:8080/"
        }
      },
      "source": [
        "print(df['Age'].mean())"
      ],
      "execution_count": 17,
      "outputs": [
        {
          "output_type": "stream",
          "text": [
            "43.192552410871706\n"
          ],
          "name": "stdout"
        }
      ]
    },
    {
      "cell_type": "code",
      "metadata": {
        "id": "tTvA-l4hOUQm",
        "outputId": "deb9d491-72e7-4072-e2f7-d6016c4874eb",
        "colab": {
          "base_uri": "https://localhost:8080/",
          "height": 336
        }
      },
      "source": [
        "sns.distplot(df[\"Age\"], bins=5);"
      ],
      "execution_count": 22,
      "outputs": [
        {
          "output_type": "stream",
          "text": [
            "/usr/local/lib/python3.6/dist-packages/seaborn/distributions.py:2551: FutureWarning: `distplot` is a deprecated function and will be removed in a future version. Please adapt your code to use either `displot` (a figure-level function with similar flexibility) or `histplot` (an axes-level function for histograms).\n",
            "  warnings.warn(msg, FutureWarning)\n"
          ],
          "name": "stderr"
        },
        {
          "output_type": "display_data",
          "data": {
            "image/png": "[encoded data removed]",
            "text/plain": [
              "<Figure size 432x288 with 1 Axes>"
            ]
          },
          "metadata": {
            "tags": [],
            "needs_background": "light"
          }
        }
      ]
    },
    {
      "cell_type": "markdown",
      "metadata": {
        "id": "2wk_73JFOUQp"
      },
      "source": [
        "Let df1 be data frame of rfm value sheet"
      ]
    },
    {
      "cell_type": "code",
      "metadata": {
        "id": "Ev3fCforOUQp"
      },
      "source": [
        "df1= pd.read_excel(\"/content/kpmg_raw_data.xlsx\", sheet_name='rfm')"
      ],
      "execution_count": 119,
      "outputs": []
    },
    {
      "cell_type": "code",
      "metadata": {
        "id": "SGNvyDHMOUQr",
        "outputId": "9ab33b0e-a489-4c10-905f-b7065eb3d377",
        "colab": {
          "base_uri": "https://localhost:8080/",
          "height": 204
        }
      },
      "source": [
        "df1.head()"
      ],
      "execution_count": 120,
      "outputs": [
        {
          "output_type": "execute_result",
          "data": {
            "text/html": [
              "<div>\n",
              "<style scoped>\n",
              "    .dataframe tbody tr th:only-of-type {\n",
              "        vertical-align: middle;\n",
              "    }\n",
              "\n",
              "    .dataframe tbody tr th {\n",
              "        vertical-align: top;\n",
              "    }\n",
              "\n",
              "    .dataframe thead th {\n",
              "        text-align: right;\n",
              "    }\n",
              "</style>\n",
              "<table border=\"1\" class=\"dataframe\">\n",
              "  <thead>\n",
              "    <tr style=\"text-align: right;\">\n",
              "      <th></th>\n",
              "      <th>Row Labels</th>\n",
              "      <th>Min of regency</th>\n",
              "      <th>Count of product_id</th>\n",
              "      <th>Sum of Profit</th>\n",
              "    </tr>\n",
              "  </thead>\n",
              "  <tbody>\n",
              "    <tr>\n",
              "      <th>0</th>\n",
              "      <td>1</td>\n",
              "      <td>7.0</td>\n",
              "      <td>11.0</td>\n",
              "      <td>3018.09</td>\n",
              "    </tr>\n",
              "    <tr>\n",
              "      <th>1</th>\n",
              "      <td>2</td>\n",
              "      <td>128.0</td>\n",
              "      <td>3.0</td>\n",
              "      <td>2226.26</td>\n",
              "    </tr>\n",
              "    <tr>\n",
              "      <th>2</th>\n",
              "      <td>3</td>\n",
              "      <td>102.0</td>\n",
              "      <td>8.0</td>\n",
              "      <td>3362.81</td>\n",
              "    </tr>\n",
              "    <tr>\n",
              "      <th>3</th>\n",
              "      <td>4</td>\n",
              "      <td>195.0</td>\n",
              "      <td>2.0</td>\n",
              "      <td>220.57</td>\n",
              "    </tr>\n",
              "    <tr>\n",
              "      <th>4</th>\n",
              "      <td>5</td>\n",
              "      <td>16.0</td>\n",
              "      <td>6.0</td>\n",
              "      <td>2394.94</td>\n",
              "    </tr>\n",
              "  </tbody>\n",
              "</table>\n",
              "</div>"
            ],
            "text/plain": [
              "  Row Labels  Min of regency  Count of product_id  Sum of Profit\n",
              "0          1             7.0                 11.0        3018.09\n",
              "1          2           128.0                  3.0        2226.26\n",
              "2          3           102.0                  8.0        3362.81\n",
              "3          4           195.0                  2.0         220.57\n",
              "4          5            16.0                  6.0        2394.94"
            ]
          },
          "metadata": {
            "tags": []
          },
          "execution_count": 120
        }
      ]
    },
    {
      "cell_type": "code",
      "metadata": {
        "id": "qLcLzpeLOUQt"
      },
      "source": [
        "df1=df1.rename(columns={'Row Labels':'Customer ID',\n",
        "                   'Min of regency': 'Recency',\n",
        "                   'Count of product_id':'Frequency',\n",
        "                   'Sum of Profit':'MonetaryValue'})"
      ],
      "execution_count": 121,
      "outputs": []
    },
    {
      "cell_type": "code",
      "metadata": {
        "id": "I1zSrZvbOUQv",
        "outputId": "08d06efb-f8b3-4d2f-9d39-aa04d2187aa8",
        "colab": {
          "base_uri": "https://localhost:8080/",
          "height": 204
        }
      },
      "source": [
        "df1.head()"
      ],
      "execution_count": 122,
      "outputs": [
        {
          "output_type": "execute_result",
          "data": {
            "text/html": [
              "<div>\n",
              "<style scoped>\n",
              "    .dataframe tbody tr th:only-of-type {\n",
              "        vertical-align: middle;\n",
              "    }\n",
              "\n",
              "    .dataframe tbody tr th {\n",
              "        vertical-align: top;\n",
              "    }\n",
              "\n",
              "    .dataframe thead th {\n",
              "        text-align: right;\n",
              "    }\n",
              "</style>\n",
              "<table border=\"1\" class=\"dataframe\">\n",
              "  <thead>\n",
              "    <tr style=\"text-align: right;\">\n",
              "      <th></th>\n",
              "      <th>Customer ID</th>\n",
              "      <th>Recency</th>\n",
              "      <th>Frequency</th>\n",
              "      <th>MonetaryValue</th>\n",
              "    </tr>\n",
              "  </thead>\n",
              "  <tbody>\n",
              "    <tr>\n",
              "      <th>0</th>\n",
              "      <td>1</td>\n",
              "      <td>7.0</td>\n",
              "      <td>11.0</td>\n",
              "      <td>3018.09</td>\n",
              "    </tr>\n",
              "    <tr>\n",
              "      <th>1</th>\n",
              "      <td>2</td>\n",
              "      <td>128.0</td>\n",
              "      <td>3.0</td>\n",
              "      <td>2226.26</td>\n",
              "    </tr>\n",
              "    <tr>\n",
              "      <th>2</th>\n",
              "      <td>3</td>\n",
              "      <td>102.0</td>\n",
              "      <td>8.0</td>\n",
              "      <td>3362.81</td>\n",
              "    </tr>\n",
              "    <tr>\n",
              "      <th>3</th>\n",
              "      <td>4</td>\n",
              "      <td>195.0</td>\n",
              "      <td>2.0</td>\n",
              "      <td>220.57</td>\n",
              "    </tr>\n",
              "    <tr>\n",
              "      <th>4</th>\n",
              "      <td>5</td>\n",
              "      <td>16.0</td>\n",
              "      <td>6.0</td>\n",
              "      <td>2394.94</td>\n",
              "    </tr>\n",
              "  </tbody>\n",
              "</table>\n",
              "</div>"
            ],
            "text/plain": [
              "  Customer ID  Recency  Frequency  MonetaryValue\n",
              "0           1      7.0       11.0        3018.09\n",
              "1           2    128.0        3.0        2226.26\n",
              "2           3    102.0        8.0        3362.81\n",
              "3           4    195.0        2.0         220.57\n",
              "4           5     16.0        6.0        2394.94"
            ]
          },
          "metadata": {
            "tags": []
          },
          "execution_count": 122
        }
      ]
    },
    {
      "cell_type": "code",
      "metadata": {
        "id": "ZSCiTIITOUQx",
        "outputId": "6eaed548-ef2f-44d9-83a3-d43c426ed798",
        "colab": {
          "base_uri": "https://localhost:8080/"
        }
      },
      "source": [
        "df1.isna"
      ],
      "execution_count": 123,
      "outputs": [
        {
          "output_type": "execute_result",
          "data": {
            "text/plain": [
              "<bound method DataFrame.isna of       Customer ID  Recency  Frequency  MonetaryValue\n",
              "0               1      7.0       11.0   3.018090e+03\n",
              "1               2    128.0        3.0   2.226260e+03\n",
              "2               3    102.0        8.0   3.362810e+03\n",
              "3               4    195.0        2.0   2.205700e+02\n",
              "4               5     16.0        6.0   2.394940e+03\n",
              "...           ...      ...        ...            ...\n",
              "3491         3499     51.0        7.0   4.955250e+03\n",
              "3492         3500    144.0        6.0   1.785860e+03\n",
              "3493         5034     84.0        3.0   2.694850e+02\n",
              "3494      (blank)      NaN        NaN            NaN\n",
              "3495  Grand Total      0.0    20000.0   1.093028e+07\n",
              "\n",
              "[3496 rows x 4 columns]>"
            ]
          },
          "metadata": {
            "tags": []
          },
          "execution_count": 123
        }
      ]
    },
    {
      "cell_type": "code",
      "metadata": {
        "id": "ayRvG8AQOUQz"
      },
      "source": [
        "df1=df1.dropna(axis='rows')"
      ],
      "execution_count": 124,
      "outputs": []
    },
    {
      "cell_type": "code",
      "metadata": {
        "id": "zKIoP9-YOUQ2",
        "outputId": "e2d40963-2e4b-40c3-94e9-03c4c186c118",
        "colab": {
          "base_uri": "https://localhost:8080/",
          "height": 297
        }
      },
      "source": [
        "df1[['Recency','Frequency','MonetaryValue']].describe()"
      ],
      "execution_count": 125,
      "outputs": [
        {
          "output_type": "execute_result",
          "data": {
            "text/html": [
              "<div>\n",
              "<style scoped>\n",
              "    .dataframe tbody tr th:only-of-type {\n",
              "        vertical-align: middle;\n",
              "    }\n",
              "\n",
              "    .dataframe tbody tr th {\n",
              "        vertical-align: top;\n",
              "    }\n",
              "\n",
              "    .dataframe thead th {\n",
              "        text-align: right;\n",
              "    }\n",
              "</style>\n",
              "<table border=\"1\" class=\"dataframe\">\n",
              "  <thead>\n",
              "    <tr style=\"text-align: right;\">\n",
              "      <th></th>\n",
              "      <th>Recency</th>\n",
              "      <th>Frequency</th>\n",
              "      <th>MonetaryValue</th>\n",
              "    </tr>\n",
              "  </thead>\n",
              "  <tbody>\n",
              "    <tr>\n",
              "      <th>count</th>\n",
              "      <td>3495.000000</td>\n",
              "      <td>3495.000000</td>\n",
              "      <td>3.495000e+03</td>\n",
              "    </tr>\n",
              "    <tr>\n",
              "      <th>mean</th>\n",
              "      <td>61.365951</td>\n",
              "      <td>11.444921</td>\n",
              "      <td>6.254812e+03</td>\n",
              "    </tr>\n",
              "    <tr>\n",
              "      <th>std</th>\n",
              "      <td>58.383297</td>\n",
              "      <td>338.214605</td>\n",
              "      <td>1.848432e+05</td>\n",
              "    </tr>\n",
              "    <tr>\n",
              "      <th>min</th>\n",
              "      <td>0.000000</td>\n",
              "      <td>1.000000</td>\n",
              "      <td>1.508000e+01</td>\n",
              "    </tr>\n",
              "    <tr>\n",
              "      <th>25%</th>\n",
              "      <td>17.000000</td>\n",
              "      <td>4.000000</td>\n",
              "      <td>1.841490e+03</td>\n",
              "    </tr>\n",
              "    <tr>\n",
              "      <th>50%</th>\n",
              "      <td>44.000000</td>\n",
              "      <td>6.000000</td>\n",
              "      <td>2.862330e+03</td>\n",
              "    </tr>\n",
              "    <tr>\n",
              "      <th>75%</th>\n",
              "      <td>86.000000</td>\n",
              "      <td>7.000000</td>\n",
              "      <td>4.188565e+03</td>\n",
              "    </tr>\n",
              "    <tr>\n",
              "      <th>max</th>\n",
              "      <td>353.000000</td>\n",
              "      <td>20000.000000</td>\n",
              "      <td>1.093028e+07</td>\n",
              "    </tr>\n",
              "  </tbody>\n",
              "</table>\n",
              "</div>"
            ],
            "text/plain": [
              "           Recency     Frequency  MonetaryValue\n",
              "count  3495.000000   3495.000000   3.495000e+03\n",
              "mean     61.365951     11.444921   6.254812e+03\n",
              "std      58.383297    338.214605   1.848432e+05\n",
              "min       0.000000      1.000000   1.508000e+01\n",
              "25%      17.000000      4.000000   1.841490e+03\n",
              "50%      44.000000      6.000000   2.862330e+03\n",
              "75%      86.000000      7.000000   4.188565e+03\n",
              "max     353.000000  20000.000000   1.093028e+07"
            ]
          },
          "metadata": {
            "tags": []
          },
          "execution_count": 125
        }
      ]
    },
    {
      "cell_type": "code",
      "metadata": {
        "id": "ac6-pCY7OUQ5",
        "outputId": "90e28408-fc3a-4750-a60c-db7de43360fe",
        "colab": {
          "base_uri": "https://localhost:8080/",
          "height": 728
        }
      },
      "source": [
        "#Plot RFM distribution\n",
        "plt.figure(figsize=(12,10))\n",
        "\n",
        "#Plot distribution of R\n",
        "plt.subplot(3,1,1); sns.distplot(df1['Recency'])\n",
        "\n",
        "#Plot distribution of F\n",
        "plt.subplot(3,1,2); sns.distplot(df1['Frequency'])\n",
        "\n",
        "#Plot distribution of M\n",
        "plt.subplot(3,1,3); sns.distplot(df1['MonetaryValue'])\n",
        "\n",
        "plt.show()"
      ],
      "execution_count": 126,
      "outputs": [
        {
          "output_type": "stream",
          "text": [
            "/usr/local/lib/python3.6/dist-packages/seaborn/distributions.py:2551: FutureWarning: `distplot` is a deprecated function and will be removed in a future version. Please adapt your code to use either `displot` (a figure-level function with similar flexibility) or `histplot` (an axes-level function for histograms).\n",
            "  warnings.warn(msg, FutureWarning)\n",
            "/usr/local/lib/python3.6/dist-packages/seaborn/distributions.py:2551: FutureWarning: `distplot` is a deprecated function and will be removed in a future version. Please adapt your code to use either `displot` (a figure-level function with similar flexibility) or `histplot` (an axes-level function for histograms).\n",
            "  warnings.warn(msg, FutureWarning)\n",
            "/usr/local/lib/python3.6/dist-packages/seaborn/distributions.py:2551: FutureWarning: `distplot` is a deprecated function and will be removed in a future version. Please adapt your code to use either `displot` (a figure-level function with similar flexibility) or `histplot` (an axes-level function for histograms).\n",
            "  warnings.warn(msg, FutureWarning)\n"
          ],
          "name": "stderr"
        },
        {
          "output_type": "display_data",
          "data": {
            "image/png": "[encoded data removed]",
            "text/plain": [
              "<Figure size 864x720 with 3 Axes>"
            ]
          },
          "metadata": {
            "tags": [],
            "needs_background": "light"
          }
        }
      ]
    },
    {
      "cell_type": "code",
      "metadata": {
        "id": "e9kYgLs1OUQ7"
      },
      "source": [
        "#calculate R and F groups\n",
        "#create labels for recency and frequency\n",
        "r_labels = range(5, 0, -1); f_labels = range(1,6); m_labels= range(1,6)\n",
        "\n",
        "#Assign this labels to 4 equal percentile groups\n",
        "r_groups= pd.qcut(df1['Recency'], q=5, labels=r_labels)\n",
        "\n",
        "f_groups = pd.qcut(df1['Frequency'], q=5, labels=f_labels)\n",
        "\n",
        "m_groups = pd.qcut(df1['MonetaryValue'], q=5, labels=f_labels)\n",
        "\n",
        "#create new columns\n",
        "df1= df1.assign(R=r_groups.values, F=f_groups.values, M=m_groups.values)"
      ],
      "execution_count": 127,
      "outputs": []
    },
    {
      "cell_type": "code",
      "metadata": {
        "id": "3lu2R8J6OUQ9",
        "outputId": "d516d17e-8677-4b0d-d839-98b38dde0f3b",
        "colab": {
          "base_uri": "https://localhost:8080/",
          "height": 204
        }
      },
      "source": [
        "df1.head()"
      ],
      "execution_count": 128,
      "outputs": [
        {
          "output_type": "execute_result",
          "data": {
            "text/html": [
              "<div>\n",
              "<style scoped>\n",
              "    .dataframe tbody tr th:only-of-type {\n",
              "        vertical-align: middle;\n",
              "    }\n",
              "\n",
              "    .dataframe tbody tr th {\n",
              "        vertical-align: top;\n",
              "    }\n",
              "\n",
              "    .dataframe thead th {\n",
              "        text-align: right;\n",
              "    }\n",
              "</style>\n",
              "<table border=\"1\" class=\"dataframe\">\n",
              "  <thead>\n",
              "    <tr style=\"text-align: right;\">\n",
              "      <th></th>\n",
              "      <th>Customer ID</th>\n",
              "      <th>Recency</th>\n",
              "      <th>Frequency</th>\n",
              "      <th>MonetaryValue</th>\n",
              "      <th>R</th>\n",
              "      <th>F</th>\n",
              "      <th>M</th>\n",
              "    </tr>\n",
              "  </thead>\n",
              "  <tbody>\n",
              "    <tr>\n",
              "      <th>0</th>\n",
              "      <td>1</td>\n",
              "      <td>7.0</td>\n",
              "      <td>11.0</td>\n",
              "      <td>3018.09</td>\n",
              "      <td>5</td>\n",
              "      <td>5</td>\n",
              "      <td>3</td>\n",
              "    </tr>\n",
              "    <tr>\n",
              "      <th>1</th>\n",
              "      <td>2</td>\n",
              "      <td>128.0</td>\n",
              "      <td>3.0</td>\n",
              "      <td>2226.26</td>\n",
              "      <td>1</td>\n",
              "      <td>1</td>\n",
              "      <td>2</td>\n",
              "    </tr>\n",
              "    <tr>\n",
              "      <th>2</th>\n",
              "      <td>3</td>\n",
              "      <td>102.0</td>\n",
              "      <td>8.0</td>\n",
              "      <td>3362.81</td>\n",
              "      <td>1</td>\n",
              "      <td>4</td>\n",
              "      <td>4</td>\n",
              "    </tr>\n",
              "    <tr>\n",
              "      <th>3</th>\n",
              "      <td>4</td>\n",
              "      <td>195.0</td>\n",
              "      <td>2.0</td>\n",
              "      <td>220.57</td>\n",
              "      <td>1</td>\n",
              "      <td>1</td>\n",
              "      <td>1</td>\n",
              "    </tr>\n",
              "    <tr>\n",
              "      <th>4</th>\n",
              "      <td>5</td>\n",
              "      <td>16.0</td>\n",
              "      <td>6.0</td>\n",
              "      <td>2394.94</td>\n",
              "      <td>4</td>\n",
              "      <td>3</td>\n",
              "      <td>2</td>\n",
              "    </tr>\n",
              "  </tbody>\n",
              "</table>\n",
              "</div>"
            ],
            "text/plain": [
              "  Customer ID  Recency  Frequency  MonetaryValue  R  F  M\n",
              "0           1      7.0       11.0        3018.09  5  5  3\n",
              "1           2    128.0        3.0        2226.26  1  1  2\n",
              "2           3    102.0        8.0        3362.81  1  4  4\n",
              "3           4    195.0        2.0         220.57  1  1  1\n",
              "4           5     16.0        6.0        2394.94  4  3  2"
            ]
          },
          "metadata": {
            "tags": []
          },
          "execution_count": 128
        }
      ]
    },
    {
      "cell_type": "code",
      "metadata": {
        "id": "tKx1hFO7OUQ-"
      },
      "source": [
        "#concatinating RFM quartile values to create a RFM segment\n",
        "def join_rfm(x):\n",
        "    return str(x['R'])+ str(x['F']) + str(x['M'])"
      ],
      "execution_count": 129,
      "outputs": []
    },
    {
      "cell_type": "code",
      "metadata": {
        "id": "pMiBXDcZOURA",
        "outputId": "556c22cf-a74e-4870-c728-45b594470058",
        "colab": {
          "base_uri": "https://localhost:8080/",
          "height": 204
        }
      },
      "source": [
        "df1['RFM']= df1.apply(join_rfm, axis=1)\n",
        "df1.head()"
      ],
      "execution_count": 130,
      "outputs": [
        {
          "output_type": "execute_result",
          "data": {
            "text/html": [
              "<div>\n",
              "<style scoped>\n",
              "    .dataframe tbody tr th:only-of-type {\n",
              "        vertical-align: middle;\n",
              "    }\n",
              "\n",
              "    .dataframe tbody tr th {\n",
              "        vertical-align: top;\n",
              "    }\n",
              "\n",
              "    .dataframe thead th {\n",
              "        text-align: right;\n",
              "    }\n",
              "</style>\n",
              "<table border=\"1\" class=\"dataframe\">\n",
              "  <thead>\n",
              "    <tr style=\"text-align: right;\">\n",
              "      <th></th>\n",
              "      <th>Customer ID</th>\n",
              "      <th>Recency</th>\n",
              "      <th>Frequency</th>\n",
              "      <th>MonetaryValue</th>\n",
              "      <th>R</th>\n",
              "      <th>F</th>\n",
              "      <th>M</th>\n",
              "      <th>RFM</th>\n",
              "    </tr>\n",
              "  </thead>\n",
              "  <tbody>\n",
              "    <tr>\n",
              "      <th>0</th>\n",
              "      <td>1</td>\n",
              "      <td>7.0</td>\n",
              "      <td>11.0</td>\n",
              "      <td>3018.09</td>\n",
              "      <td>5</td>\n",
              "      <td>5</td>\n",
              "      <td>3</td>\n",
              "      <td>553</td>\n",
              "    </tr>\n",
              "    <tr>\n",
              "      <th>1</th>\n",
              "      <td>2</td>\n",
              "      <td>128.0</td>\n",
              "      <td>3.0</td>\n",
              "      <td>2226.26</td>\n",
              "      <td>1</td>\n",
              "      <td>1</td>\n",
              "      <td>2</td>\n",
              "      <td>112</td>\n",
              "    </tr>\n",
              "    <tr>\n",
              "      <th>2</th>\n",
              "      <td>3</td>\n",
              "      <td>102.0</td>\n",
              "      <td>8.0</td>\n",
              "      <td>3362.81</td>\n",
              "      <td>1</td>\n",
              "      <td>4</td>\n",
              "      <td>4</td>\n",
              "      <td>144</td>\n",
              "    </tr>\n",
              "    <tr>\n",
              "      <th>3</th>\n",
              "      <td>4</td>\n",
              "      <td>195.0</td>\n",
              "      <td>2.0</td>\n",
              "      <td>220.57</td>\n",
              "      <td>1</td>\n",
              "      <td>1</td>\n",
              "      <td>1</td>\n",
              "      <td>111</td>\n",
              "    </tr>\n",
              "    <tr>\n",
              "      <th>4</th>\n",
              "      <td>5</td>\n",
              "      <td>16.0</td>\n",
              "      <td>6.0</td>\n",
              "      <td>2394.94</td>\n",
              "      <td>4</td>\n",
              "      <td>3</td>\n",
              "      <td>2</td>\n",
              "      <td>432</td>\n",
              "    </tr>\n",
              "  </tbody>\n",
              "</table>\n",
              "</div>"
            ],
            "text/plain": [
              "  Customer ID  Recency  Frequency  MonetaryValue  R  F  M  RFM\n",
              "0           1      7.0       11.0        3018.09  5  5  3  553\n",
              "1           2    128.0        3.0        2226.26  1  1  2  112\n",
              "2           3    102.0        8.0        3362.81  1  4  4  144\n",
              "3           4    195.0        2.0         220.57  1  1  1  111\n",
              "4           5     16.0        6.0        2394.94  4  3  2  432"
            ]
          },
          "metadata": {
            "tags": []
          },
          "execution_count": 130
        }
      ]
    },
    {
      "cell_type": "code",
      "metadata": {
        "id": "YK6JD6PwOURC",
        "outputId": "e7bc279b-6199-445a-ac6d-b81d1fdeb173",
        "colab": {
          "base_uri": "https://localhost:8080/"
        }
      },
      "source": [
        "#count number of unique segments\n",
        "rfm_count_unique = df1.groupby('RFM', sort=True)\n",
        "print(rfm_count_unique.sum())"
      ],
      "execution_count": 131,
      "outputs": [
        {
          "output_type": "stream",
          "text": [
            "     Recency  Frequency  MonetaryValue\n",
            "RFM                                   \n",
            "111  40459.0      557.0   1.766227e+05\n",
            "112  15652.0      305.0   1.878982e+05\n",
            "113   8565.0      196.0   1.594058e+05\n",
            "114   2263.0       56.0   5.568738e+04\n",
            "115    341.0        8.0   9.350090e+03\n",
            "..       ...        ...            ...\n",
            "545    426.0      466.0   3.567114e+05\n",
            "552     15.0       27.0   6.820650e+03\n",
            "553     98.0      133.0   4.191248e+04\n",
            "554    182.0      277.0   1.127043e+05\n",
            "555    720.0    21072.0   1.161076e+07\n",
            "\n",
            "[117 rows x 3 columns]\n"
          ],
          "name": "stdout"
        }
      ]
    },
    {
      "cell_type": "markdown",
      "metadata": {
        "id": "eGYZWASAOURE"
      },
      "source": [
        "We have 117 different segments using the concatinating... this is unwieldy for any parctical use."
      ]
    },
    {
      "cell_type": "markdown",
      "metadata": {
        "id": "G3lml9t4OURF"
      },
      "source": [
        "Summing the score"
      ]
    },
    {
      "cell_type": "code",
      "metadata": {
        "id": "rxpgcxlgOURF",
        "outputId": "925c5297-5e7d-448b-c6d4-077db2a9f9ff",
        "colab": {
          "base_uri": "https://localhost:8080/"
        }
      },
      "source": [
        "df1['rfm_score']= df1[['R', 'F', 'M']].sum(axis=1)\n",
        "print(df1['rfm_score'].head())"
      ],
      "execution_count": 132,
      "outputs": [
        {
          "output_type": "stream",
          "text": [
            "0    13\n",
            "1     4\n",
            "2     9\n",
            "3     3\n",
            "4     9\n",
            "Name: rfm_score, dtype: int64\n"
          ],
          "name": "stdout"
        }
      ]
    },
    {
      "cell_type": "code",
      "metadata": {
        "id": "iS28AcMZOURH",
        "outputId": "5dc0d0a6-929e-47aa-8025-79f9e5cba09b",
        "colab": {
          "base_uri": "https://localhost:8080/",
          "height": 204
        }
      },
      "source": [
        "df1.tail()"
      ],
      "execution_count": 133,
      "outputs": [
        {
          "output_type": "execute_result",
          "data": {
            "text/html": [
              "<div>\n",
              "<style scoped>\n",
              "    .dataframe tbody tr th:only-of-type {\n",
              "        vertical-align: middle;\n",
              "    }\n",
              "\n",
              "    .dataframe tbody tr th {\n",
              "        vertical-align: top;\n",
              "    }\n",
              "\n",
              "    .dataframe thead th {\n",
              "        text-align: right;\n",
              "    }\n",
              "</style>\n",
              "<table border=\"1\" class=\"dataframe\">\n",
              "  <thead>\n",
              "    <tr style=\"text-align: right;\">\n",
              "      <th></th>\n",
              "      <th>Customer ID</th>\n",
              "      <th>Recency</th>\n",
              "      <th>Frequency</th>\n",
              "      <th>MonetaryValue</th>\n",
              "      <th>R</th>\n",
              "      <th>F</th>\n",
              "      <th>M</th>\n",
              "      <th>RFM</th>\n",
              "      <th>rfm_score</th>\n",
              "    </tr>\n",
              "  </thead>\n",
              "  <tbody>\n",
              "    <tr>\n",
              "      <th>3490</th>\n",
              "      <td>3498</td>\n",
              "      <td>127.0</td>\n",
              "      <td>6.0</td>\n",
              "      <td>3.147330e+03</td>\n",
              "      <td>1</td>\n",
              "      <td>3</td>\n",
              "      <td>3</td>\n",
              "      <td>133</td>\n",
              "      <td>7</td>\n",
              "    </tr>\n",
              "    <tr>\n",
              "      <th>3491</th>\n",
              "      <td>3499</td>\n",
              "      <td>51.0</td>\n",
              "      <td>7.0</td>\n",
              "      <td>4.955250e+03</td>\n",
              "      <td>3</td>\n",
              "      <td>4</td>\n",
              "      <td>5</td>\n",
              "      <td>345</td>\n",
              "      <td>12</td>\n",
              "    </tr>\n",
              "    <tr>\n",
              "      <th>3492</th>\n",
              "      <td>3500</td>\n",
              "      <td>144.0</td>\n",
              "      <td>6.0</td>\n",
              "      <td>1.785860e+03</td>\n",
              "      <td>1</td>\n",
              "      <td>3</td>\n",
              "      <td>2</td>\n",
              "      <td>132</td>\n",
              "      <td>6</td>\n",
              "    </tr>\n",
              "    <tr>\n",
              "      <th>3493</th>\n",
              "      <td>5034</td>\n",
              "      <td>84.0</td>\n",
              "      <td>3.0</td>\n",
              "      <td>2.694850e+02</td>\n",
              "      <td>2</td>\n",
              "      <td>1</td>\n",
              "      <td>1</td>\n",
              "      <td>211</td>\n",
              "      <td>4</td>\n",
              "    </tr>\n",
              "    <tr>\n",
              "      <th>3495</th>\n",
              "      <td>Grand Total</td>\n",
              "      <td>0.0</td>\n",
              "      <td>20000.0</td>\n",
              "      <td>1.093028e+07</td>\n",
              "      <td>5</td>\n",
              "      <td>5</td>\n",
              "      <td>5</td>\n",
              "      <td>555</td>\n",
              "      <td>15</td>\n",
              "    </tr>\n",
              "  </tbody>\n",
              "</table>\n",
              "</div>"
            ],
            "text/plain": [
              "      Customer ID  Recency  Frequency  MonetaryValue  R  F  M  RFM  rfm_score\n",
              "3490         3498    127.0        6.0   3.147330e+03  1  3  3  133          7\n",
              "3491         3499     51.0        7.0   4.955250e+03  3  4  5  345         12\n",
              "3492         3500    144.0        6.0   1.785860e+03  1  3  2  132          6\n",
              "3493         5034     84.0        3.0   2.694850e+02  2  1  1  211          4\n",
              "3495  Grand Total      0.0    20000.0   1.093028e+07  5  5  5  555         15"
            ]
          },
          "metadata": {
            "tags": []
          },
          "execution_count": 133
        }
      ]
    },
    {
      "cell_type": "code",
      "metadata": {
        "id": "BCcb3CaGOURJ",
        "outputId": "1651f57a-7658-42c1-db2a-e772a2c97bc5",
        "colab": {
          "base_uri": "https://localhost:8080/",
          "height": 235
        }
      },
      "source": [
        "df1=df1.set_index('Customer ID')\n",
        "df1.head()"
      ],
      "execution_count": 134,
      "outputs": [
        {
          "output_type": "execute_result",
          "data": {
            "text/html": [
              "<div>\n",
              "<style scoped>\n",
              "    .dataframe tbody tr th:only-of-type {\n",
              "        vertical-align: middle;\n",
              "    }\n",
              "\n",
              "    .dataframe tbody tr th {\n",
              "        vertical-align: top;\n",
              "    }\n",
              "\n",
              "    .dataframe thead th {\n",
              "        text-align: right;\n",
              "    }\n",
              "</style>\n",
              "<table border=\"1\" class=\"dataframe\">\n",
              "  <thead>\n",
              "    <tr style=\"text-align: right;\">\n",
              "      <th></th>\n",
              "      <th>Recency</th>\n",
              "      <th>Frequency</th>\n",
              "      <th>MonetaryValue</th>\n",
              "      <th>R</th>\n",
              "      <th>F</th>\n",
              "      <th>M</th>\n",
              "      <th>RFM</th>\n",
              "      <th>rfm_score</th>\n",
              "    </tr>\n",
              "    <tr>\n",
              "      <th>Customer ID</th>\n",
              "      <th></th>\n",
              "      <th></th>\n",
              "      <th></th>\n",
              "      <th></th>\n",
              "      <th></th>\n",
              "      <th></th>\n",
              "      <th></th>\n",
              "      <th></th>\n",
              "    </tr>\n",
              "  </thead>\n",
              "  <tbody>\n",
              "    <tr>\n",
              "      <th>1</th>\n",
              "      <td>7.0</td>\n",
              "      <td>11.0</td>\n",
              "      <td>3018.09</td>\n",
              "      <td>5</td>\n",
              "      <td>5</td>\n",
              "      <td>3</td>\n",
              "      <td>553</td>\n",
              "      <td>13</td>\n",
              "    </tr>\n",
              "    <tr>\n",
              "      <th>2</th>\n",
              "      <td>128.0</td>\n",
              "      <td>3.0</td>\n",
              "      <td>2226.26</td>\n",
              "      <td>1</td>\n",
              "      <td>1</td>\n",
              "      <td>2</td>\n",
              "      <td>112</td>\n",
              "      <td>4</td>\n",
              "    </tr>\n",
              "    <tr>\n",
              "      <th>3</th>\n",
              "      <td>102.0</td>\n",
              "      <td>8.0</td>\n",
              "      <td>3362.81</td>\n",
              "      <td>1</td>\n",
              "      <td>4</td>\n",
              "      <td>4</td>\n",
              "      <td>144</td>\n",
              "      <td>9</td>\n",
              "    </tr>\n",
              "    <tr>\n",
              "      <th>4</th>\n",
              "      <td>195.0</td>\n",
              "      <td>2.0</td>\n",
              "      <td>220.57</td>\n",
              "      <td>1</td>\n",
              "      <td>1</td>\n",
              "      <td>1</td>\n",
              "      <td>111</td>\n",
              "      <td>3</td>\n",
              "    </tr>\n",
              "    <tr>\n",
              "      <th>5</th>\n",
              "      <td>16.0</td>\n",
              "      <td>6.0</td>\n",
              "      <td>2394.94</td>\n",
              "      <td>4</td>\n",
              "      <td>3</td>\n",
              "      <td>2</td>\n",
              "      <td>432</td>\n",
              "      <td>9</td>\n",
              "    </tr>\n",
              "  </tbody>\n",
              "</table>\n",
              "</div>"
            ],
            "text/plain": [
              "             Recency  Frequency  MonetaryValue  R  F  M  RFM  rfm_score\n",
              "Customer ID                                                            \n",
              "1                7.0       11.0        3018.09  5  5  3  553         13\n",
              "2              128.0        3.0        2226.26  1  1  2  112          4\n",
              "3              102.0        8.0        3362.81  1  4  4  144          9\n",
              "4              195.0        2.0         220.57  1  1  1  111          3\n",
              "5               16.0        6.0        2394.94  4  3  2  432          9"
            ]
          },
          "metadata": {
            "tags": []
          },
          "execution_count": 134
        }
      ]
    },
    {
      "cell_type": "code",
      "metadata": {
        "id": "8OWrnrSqjRHH",
        "outputId": "f7531bf6-57d6-4899-ceee-2f735b8f1a3d",
        "colab": {
          "base_uri": "https://localhost:8080/",
          "height": 235
        }
      },
      "source": [
        "df1.tail()"
      ],
      "execution_count": 135,
      "outputs": [
        {
          "output_type": "execute_result",
          "data": {
            "text/html": [
              "<div>\n",
              "<style scoped>\n",
              "    .dataframe tbody tr th:only-of-type {\n",
              "        vertical-align: middle;\n",
              "    }\n",
              "\n",
              "    .dataframe tbody tr th {\n",
              "        vertical-align: top;\n",
              "    }\n",
              "\n",
              "    .dataframe thead th {\n",
              "        text-align: right;\n",
              "    }\n",
              "</style>\n",
              "<table border=\"1\" class=\"dataframe\">\n",
              "  <thead>\n",
              "    <tr style=\"text-align: right;\">\n",
              "      <th></th>\n",
              "      <th>Recency</th>\n",
              "      <th>Frequency</th>\n",
              "      <th>MonetaryValue</th>\n",
              "      <th>R</th>\n",
              "      <th>F</th>\n",
              "      <th>M</th>\n",
              "      <th>RFM</th>\n",
              "      <th>rfm_score</th>\n",
              "    </tr>\n",
              "    <tr>\n",
              "      <th>Customer ID</th>\n",
              "      <th></th>\n",
              "      <th></th>\n",
              "      <th></th>\n",
              "      <th></th>\n",
              "      <th></th>\n",
              "      <th></th>\n",
              "      <th></th>\n",
              "      <th></th>\n",
              "    </tr>\n",
              "  </thead>\n",
              "  <tbody>\n",
              "    <tr>\n",
              "      <th>3498</th>\n",
              "      <td>127.0</td>\n",
              "      <td>6.0</td>\n",
              "      <td>3.147330e+03</td>\n",
              "      <td>1</td>\n",
              "      <td>3</td>\n",
              "      <td>3</td>\n",
              "      <td>133</td>\n",
              "      <td>7</td>\n",
              "    </tr>\n",
              "    <tr>\n",
              "      <th>3499</th>\n",
              "      <td>51.0</td>\n",
              "      <td>7.0</td>\n",
              "      <td>4.955250e+03</td>\n",
              "      <td>3</td>\n",
              "      <td>4</td>\n",
              "      <td>5</td>\n",
              "      <td>345</td>\n",
              "      <td>12</td>\n",
              "    </tr>\n",
              "    <tr>\n",
              "      <th>3500</th>\n",
              "      <td>144.0</td>\n",
              "      <td>6.0</td>\n",
              "      <td>1.785860e+03</td>\n",
              "      <td>1</td>\n",
              "      <td>3</td>\n",
              "      <td>2</td>\n",
              "      <td>132</td>\n",
              "      <td>6</td>\n",
              "    </tr>\n",
              "    <tr>\n",
              "      <th>5034</th>\n",
              "      <td>84.0</td>\n",
              "      <td>3.0</td>\n",
              "      <td>2.694850e+02</td>\n",
              "      <td>2</td>\n",
              "      <td>1</td>\n",
              "      <td>1</td>\n",
              "      <td>211</td>\n",
              "      <td>4</td>\n",
              "    </tr>\n",
              "    <tr>\n",
              "      <th>Grand Total</th>\n",
              "      <td>0.0</td>\n",
              "      <td>20000.0</td>\n",
              "      <td>1.093028e+07</td>\n",
              "      <td>5</td>\n",
              "      <td>5</td>\n",
              "      <td>5</td>\n",
              "      <td>555</td>\n",
              "      <td>15</td>\n",
              "    </tr>\n",
              "  </tbody>\n",
              "</table>\n",
              "</div>"
            ],
            "text/plain": [
              "             Recency  Frequency  MonetaryValue  R  F  M  RFM  rfm_score\n",
              "Customer ID                                                            \n",
              "3498           127.0        6.0   3.147330e+03  1  3  3  133          7\n",
              "3499            51.0        7.0   4.955250e+03  3  4  5  345         12\n",
              "3500           144.0        6.0   1.785860e+03  1  3  2  132          6\n",
              "5034            84.0        3.0   2.694850e+02  2  1  1  211          4\n",
              "Grand Total      0.0    20000.0   1.093028e+07  5  5  5  555         15"
            ]
          },
          "metadata": {
            "tags": []
          },
          "execution_count": 135
        }
      ]
    },
    {
      "cell_type": "markdown",
      "metadata": {
        "id": "thEQ6Z1vOURL"
      },
      "source": [
        "Define rfm_level function"
      ]
    },
    {
      "cell_type": "code",
      "metadata": {
        "id": "nNzoKLlAnrbG"
      },
      "source": [
        "df1['RFM'] = df1['RFM'].astype(int)"
      ],
      "execution_count": 136,
      "outputs": []
    },
    {
      "cell_type": "code",
      "metadata": {
        "id": "eTbrj69zOURL"
      },
      "source": [
        "\n",
        "def rfm_level(df):\n",
        "    if df['rfm_score'] >=12:\n",
        "        return 'Champions/Top Customers'\n",
        "    elif (df['rfm_score']>=10) and (df['rfm_score']<12):\n",
        "        return 'Potential Loyalists'\n",
        "    elif (df['rfm_score']>=8) and (df['rfm_score']<10) and (df['RFM'] >=400):\n",
        "        return 'New Customers'\n",
        "    elif ((df['rfm_score']>=6) and (df['rfm_score']<8)):\n",
        "        return 'At-Risk Customers'\n",
        "    elif ((df['rfm_score']>=5) and (df['rfm_score']<6)):\n",
        "        return \"Can't Loose them\"    \n",
        "    else:\n",
        "          return 'Lost Customers'"
      ],
      "execution_count": 143,
      "outputs": []
    },
    {
      "cell_type": "code",
      "metadata": {
        "id": "MAsDDOsrOURN"
      },
      "source": [
        "df1['Customer Category']= df1.apply(rfm_level, axis=1)"
      ],
      "execution_count": 144,
      "outputs": []
    },
    {
      "cell_type": "code",
      "metadata": {
        "id": "U0WKIBspOURP",
        "outputId": "66348126-0787-4139-ad15-2ffc9cf0747b",
        "colab": {
          "base_uri": "https://localhost:8080/",
          "height": 235
        }
      },
      "source": [
        "df1.head()"
      ],
      "execution_count": 145,
      "outputs": [
        {
          "output_type": "execute_result",
          "data": {
            "text/html": [
              "<div>\n",
              "<style scoped>\n",
              "    .dataframe tbody tr th:only-of-type {\n",
              "        vertical-align: middle;\n",
              "    }\n",
              "\n",
              "    .dataframe tbody tr th {\n",
              "        vertical-align: top;\n",
              "    }\n",
              "\n",
              "    .dataframe thead th {\n",
              "        text-align: right;\n",
              "    }\n",
              "</style>\n",
              "<table border=\"1\" class=\"dataframe\">\n",
              "  <thead>\n",
              "    <tr style=\"text-align: right;\">\n",
              "      <th></th>\n",
              "      <th>Recency</th>\n",
              "      <th>Frequency</th>\n",
              "      <th>MonetaryValue</th>\n",
              "      <th>R</th>\n",
              "      <th>F</th>\n",
              "      <th>M</th>\n",
              "      <th>RFM</th>\n",
              "      <th>rfm_score</th>\n",
              "      <th>Customer Category</th>\n",
              "    </tr>\n",
              "    <tr>\n",
              "      <th>Customer ID</th>\n",
              "      <th></th>\n",
              "      <th></th>\n",
              "      <th></th>\n",
              "      <th></th>\n",
              "      <th></th>\n",
              "      <th></th>\n",
              "      <th></th>\n",
              "      <th></th>\n",
              "      <th></th>\n",
              "    </tr>\n",
              "  </thead>\n",
              "  <tbody>\n",
              "    <tr>\n",
              "      <th>1</th>\n",
              "      <td>7.0</td>\n",
              "      <td>11.0</td>\n",
              "      <td>3018.09</td>\n",
              "      <td>5</td>\n",
              "      <td>5</td>\n",
              "      <td>3</td>\n",
              "      <td>553</td>\n",
              "      <td>13</td>\n",
              "      <td>Champions/Top Customers</td>\n",
              "    </tr>\n",
              "    <tr>\n",
              "      <th>2</th>\n",
              "      <td>128.0</td>\n",
              "      <td>3.0</td>\n",
              "      <td>2226.26</td>\n",
              "      <td>1</td>\n",
              "      <td>1</td>\n",
              "      <td>2</td>\n",
              "      <td>112</td>\n",
              "      <td>4</td>\n",
              "      <td>Lost Customers</td>\n",
              "    </tr>\n",
              "    <tr>\n",
              "      <th>3</th>\n",
              "      <td>102.0</td>\n",
              "      <td>8.0</td>\n",
              "      <td>3362.81</td>\n",
              "      <td>1</td>\n",
              "      <td>4</td>\n",
              "      <td>4</td>\n",
              "      <td>144</td>\n",
              "      <td>9</td>\n",
              "      <td>Lost Customers</td>\n",
              "    </tr>\n",
              "    <tr>\n",
              "      <th>4</th>\n",
              "      <td>195.0</td>\n",
              "      <td>2.0</td>\n",
              "      <td>220.57</td>\n",
              "      <td>1</td>\n",
              "      <td>1</td>\n",
              "      <td>1</td>\n",
              "      <td>111</td>\n",
              "      <td>3</td>\n",
              "      <td>Lost Customers</td>\n",
              "    </tr>\n",
              "    <tr>\n",
              "      <th>5</th>\n",
              "      <td>16.0</td>\n",
              "      <td>6.0</td>\n",
              "      <td>2394.94</td>\n",
              "      <td>4</td>\n",
              "      <td>3</td>\n",
              "      <td>2</td>\n",
              "      <td>432</td>\n",
              "      <td>9</td>\n",
              "      <td>New Customers</td>\n",
              "    </tr>\n",
              "  </tbody>\n",
              "</table>\n",
              "</div>"
            ],
            "text/plain": [
              "             Recency  Frequency  ...  rfm_score        Customer Category\n",
              "Customer ID                      ...                                    \n",
              "1                7.0       11.0  ...         13  Champions/Top Customers\n",
              "2              128.0        3.0  ...          4           Lost Customers\n",
              "3              102.0        8.0  ...          9           Lost Customers\n",
              "4              195.0        2.0  ...          3           Lost Customers\n",
              "5               16.0        6.0  ...          9            New Customers\n",
              "\n",
              "[5 rows x 9 columns]"
            ]
          },
          "metadata": {
            "tags": []
          },
          "execution_count": 145
        }
      ]
    },
    {
      "cell_type": "code",
      "metadata": {
        "id": "v58U4UipoTTQ",
        "outputId": "ee75ad78-af2d-45f8-a58d-c59cf0f29005",
        "colab": {
          "base_uri": "https://localhost:8080/",
          "height": 235
        }
      },
      "source": [
        "df1.tail()"
      ],
      "execution_count": 146,
      "outputs": [
        {
          "output_type": "execute_result",
          "data": {
            "text/html": [
              "<div>\n",
              "<style scoped>\n",
              "    .dataframe tbody tr th:only-of-type {\n",
              "        vertical-align: middle;\n",
              "    }\n",
              "\n",
              "    .dataframe tbody tr th {\n",
              "        vertical-align: top;\n",
              "    }\n",
              "\n",
              "    .dataframe thead th {\n",
              "        text-align: right;\n",
              "    }\n",
              "</style>\n",
              "<table border=\"1\" class=\"dataframe\">\n",
              "  <thead>\n",
              "    <tr style=\"text-align: right;\">\n",
              "      <th></th>\n",
              "      <th>Recency</th>\n",
              "      <th>Frequency</th>\n",
              "      <th>MonetaryValue</th>\n",
              "      <th>R</th>\n",
              "      <th>F</th>\n",
              "      <th>M</th>\n",
              "      <th>RFM</th>\n",
              "      <th>rfm_score</th>\n",
              "      <th>Customer Category</th>\n",
              "    </tr>\n",
              "    <tr>\n",
              "      <th>Customer ID</th>\n",
              "      <th></th>\n",
              "      <th></th>\n",
              "      <th></th>\n",
              "      <th></th>\n",
              "      <th></th>\n",
              "      <th></th>\n",
              "      <th></th>\n",
              "      <th></th>\n",
              "      <th></th>\n",
              "    </tr>\n",
              "  </thead>\n",
              "  <tbody>\n",
              "    <tr>\n",
              "      <th>3497</th>\n",
              "      <td>52.0</td>\n",
              "      <td>3.0</td>\n",
              "      <td>1648.320000</td>\n",
              "      <td>3</td>\n",
              "      <td>1</td>\n",
              "      <td>2</td>\n",
              "      <td>312</td>\n",
              "      <td>6</td>\n",
              "      <td>At-Risk Customers</td>\n",
              "    </tr>\n",
              "    <tr>\n",
              "      <th>3498</th>\n",
              "      <td>127.0</td>\n",
              "      <td>6.0</td>\n",
              "      <td>3147.330000</td>\n",
              "      <td>1</td>\n",
              "      <td>3</td>\n",
              "      <td>3</td>\n",
              "      <td>133</td>\n",
              "      <td>7</td>\n",
              "      <td>At-Risk Customers</td>\n",
              "    </tr>\n",
              "    <tr>\n",
              "      <th>3499</th>\n",
              "      <td>51.0</td>\n",
              "      <td>7.0</td>\n",
              "      <td>4955.250000</td>\n",
              "      <td>3</td>\n",
              "      <td>4</td>\n",
              "      <td>5</td>\n",
              "      <td>345</td>\n",
              "      <td>12</td>\n",
              "      <td>Champions/Top Customers</td>\n",
              "    </tr>\n",
              "    <tr>\n",
              "      <th>3500</th>\n",
              "      <td>144.0</td>\n",
              "      <td>6.0</td>\n",
              "      <td>1785.860000</td>\n",
              "      <td>1</td>\n",
              "      <td>3</td>\n",
              "      <td>2</td>\n",
              "      <td>132</td>\n",
              "      <td>6</td>\n",
              "      <td>At-Risk Customers</td>\n",
              "    </tr>\n",
              "    <tr>\n",
              "      <th>5034</th>\n",
              "      <td>84.0</td>\n",
              "      <td>3.0</td>\n",
              "      <td>269.484972</td>\n",
              "      <td>2</td>\n",
              "      <td>1</td>\n",
              "      <td>1</td>\n",
              "      <td>211</td>\n",
              "      <td>4</td>\n",
              "      <td>Lost Customers</td>\n",
              "    </tr>\n",
              "  </tbody>\n",
              "</table>\n",
              "</div>"
            ],
            "text/plain": [
              "             Recency  Frequency  ...  rfm_score        Customer Category\n",
              "Customer ID                      ...                                    \n",
              "3497            52.0        3.0  ...          6        At-Risk Customers\n",
              "3498           127.0        6.0  ...          7        At-Risk Customers\n",
              "3499            51.0        7.0  ...         12  Champions/Top Customers\n",
              "3500           144.0        6.0  ...          6        At-Risk Customers\n",
              "5034            84.0        3.0  ...          4           Lost Customers\n",
              "\n",
              "[5 rows x 9 columns]"
            ]
          },
          "metadata": {
            "tags": []
          },
          "execution_count": 146
        }
      ]
    },
    {
      "cell_type": "code",
      "metadata": {
        "id": "PPICZzycoZIV"
      },
      "source": [
        ""
      ],
      "execution_count": 146,
      "outputs": []
    },
    {
      "cell_type": "markdown",
      "metadata": {
        "id": "hmW3bpd3OURS"
      },
      "source": [
        "Calculating average values for ecah rfm_level and return a size of each segment"
      ]
    },
    {
      "cell_type": "code",
      "metadata": {
        "id": "XeFIKsGJOURS",
        "outputId": "1d5932a9-866c-40d7-fea5-f45ca020c7c7",
        "colab": {
          "base_uri": "https://localhost:8080/"
        }
      },
      "source": [
        "Customer_aggregate = df1.groupby('Customer Category').agg({\n",
        "    'Recency': 'mean',\n",
        "    'Frequency': 'mean',\n",
        "    'MonetaryValue': ['mean','count']\n",
        "}).round(1)\n",
        "\n",
        "print(Customer_aggregate)"
      ],
      "execution_count": 151,
      "outputs": [
        {
          "output_type": "stream",
          "text": [
            "                        Recency Frequency MonetaryValue      \n",
            "                           mean      mean          mean count\n",
            "Customer Category                                            \n",
            "At-Risk Customers          66.7       4.3        2156.7   634\n",
            "Can't Loose them           93.7       3.7        1796.1   263\n",
            "Champions/Top Customers    21.2       8.5        5180.4   792\n",
            "Lost Customers            116.1       4.4        2127.3   854\n",
            "New Customers              15.2       4.6        2292.5   278\n",
            "Potential Loyalists        40.6       6.7        3764.7   673\n"
          ],
          "name": "stdout"
        }
      ]
    },
    {
      "cell_type": "markdown",
      "metadata": {
        "id": "-lLJpqGCOURU"
      },
      "source": [
        "Graphical represenation of segmentation:"
      ]
    },
    {
      "cell_type": "code",
      "metadata": {
        "id": "qwOFMb_hOURU",
        "outputId": "5ab3a189-c857-4c14-9ecf-d7f3342f7916",
        "colab": {
          "base_uri": "https://localhost:8080/",
          "height": 540
        }
      },
      "source": [
        "#rfm_level_agg.columns = Customer_aggregate.columns.droplevel()\n",
        "Customer_aggregate.columns = ['RecencyMean', 'FrequencyMean', 'MonetaryMean', 'Count']\n",
        "\n",
        "fig = plt.gcf()\n",
        "ax= fig.add_subplot()\n",
        "fig.set_size_inches(12,9)\n",
        "\n",
        "squarify.plot(sizes=Customer_aggregate['Count'],\n",
        "             label=[\"Champions/Top Customers\", \n",
        "                    \"Potential Loyalists\",\n",
        "                    \"New Customers\",\n",
        "                    \"At-Risk Customers\",\n",
        "                    \"Can't Loose them\",\n",
        "                    'Lost Customers'], color=['red','grey','blue','purple','green','yellow'], alpha=.6)\n",
        "\n",
        "plt.title('Customer Segments', fontsize= 18, fontweight='bold')\n",
        "plt.axis('off')\n",
        "plt.show()"
      ],
      "execution_count": 156,
      "outputs": [
        {
          "output_type": "display_data",
          "data": {
            "image/png": "[encoded data removed]",
            "text/plain": [
              "<Figure size 864x648 with 1 Axes>"
            ]
          },
          "metadata": {
            "tags": [],
            "needs_background": "light"
          }
        }
      ]
    },
    {
      "cell_type": "code",
      "metadata": {
        "id": "WQssuYatOURW",
        "outputId": "4f2b4cad-da52-46f3-e0ba-1fdadbc82928",
        "colab": {
          "base_uri": "https://localhost:8080/",
          "height": 235
        }
      },
      "source": [
        "df1.head()"
      ],
      "execution_count": 166,
      "outputs": [
        {
          "output_type": "execute_result",
          "data": {
            "text/html": [
              "<div>\n",
              "<style scoped>\n",
              "    .dataframe tbody tr th:only-of-type {\n",
              "        vertical-align: middle;\n",
              "    }\n",
              "\n",
              "    .dataframe tbody tr th {\n",
              "        vertical-align: top;\n",
              "    }\n",
              "\n",
              "    .dataframe thead th {\n",
              "        text-align: right;\n",
              "    }\n",
              "</style>\n",
              "<table border=\"1\" class=\"dataframe\">\n",
              "  <thead>\n",
              "    <tr style=\"text-align: right;\">\n",
              "      <th></th>\n",
              "      <th>Recency</th>\n",
              "      <th>Frequency</th>\n",
              "      <th>MonetaryValue</th>\n",
              "      <th>R</th>\n",
              "      <th>F</th>\n",
              "      <th>M</th>\n",
              "      <th>RFM</th>\n",
              "      <th>rfm_score</th>\n",
              "      <th>Customer Category</th>\n",
              "    </tr>\n",
              "    <tr>\n",
              "      <th>Customer ID</th>\n",
              "      <th></th>\n",
              "      <th></th>\n",
              "      <th></th>\n",
              "      <th></th>\n",
              "      <th></th>\n",
              "      <th></th>\n",
              "      <th></th>\n",
              "      <th></th>\n",
              "      <th></th>\n",
              "    </tr>\n",
              "  </thead>\n",
              "  <tbody>\n",
              "    <tr>\n",
              "      <th>1</th>\n",
              "      <td>7.0</td>\n",
              "      <td>11.0</td>\n",
              "      <td>3018.09</td>\n",
              "      <td>5</td>\n",
              "      <td>5</td>\n",
              "      <td>3</td>\n",
              "      <td>553</td>\n",
              "      <td>13</td>\n",
              "      <td>Champions/Top Customers</td>\n",
              "    </tr>\n",
              "    <tr>\n",
              "      <th>2</th>\n",
              "      <td>128.0</td>\n",
              "      <td>3.0</td>\n",
              "      <td>2226.26</td>\n",
              "      <td>1</td>\n",
              "      <td>1</td>\n",
              "      <td>2</td>\n",
              "      <td>112</td>\n",
              "      <td>4</td>\n",
              "      <td>Lost Customers</td>\n",
              "    </tr>\n",
              "    <tr>\n",
              "      <th>3</th>\n",
              "      <td>102.0</td>\n",
              "      <td>8.0</td>\n",
              "      <td>3362.81</td>\n",
              "      <td>1</td>\n",
              "      <td>4</td>\n",
              "      <td>4</td>\n",
              "      <td>144</td>\n",
              "      <td>9</td>\n",
              "      <td>Lost Customers</td>\n",
              "    </tr>\n",
              "    <tr>\n",
              "      <th>4</th>\n",
              "      <td>195.0</td>\n",
              "      <td>2.0</td>\n",
              "      <td>220.57</td>\n",
              "      <td>1</td>\n",
              "      <td>1</td>\n",
              "      <td>1</td>\n",
              "      <td>111</td>\n",
              "      <td>3</td>\n",
              "      <td>Lost Customers</td>\n",
              "    </tr>\n",
              "    <tr>\n",
              "      <th>5</th>\n",
              "      <td>16.0</td>\n",
              "      <td>6.0</td>\n",
              "      <td>2394.94</td>\n",
              "      <td>4</td>\n",
              "      <td>3</td>\n",
              "      <td>2</td>\n",
              "      <td>432</td>\n",
              "      <td>9</td>\n",
              "      <td>New Customers</td>\n",
              "    </tr>\n",
              "  </tbody>\n",
              "</table>\n",
              "</div>"
            ],
            "text/plain": [
              "             Recency  Frequency  ...  rfm_score        Customer Category\n",
              "Customer ID                      ...                                    \n",
              "1                7.0       11.0  ...         13  Champions/Top Customers\n",
              "2              128.0        3.0  ...          4           Lost Customers\n",
              "3              102.0        8.0  ...          9           Lost Customers\n",
              "4              195.0        2.0  ...          3           Lost Customers\n",
              "5               16.0        6.0  ...          9            New Customers\n",
              "\n",
              "[5 rows x 9 columns]"
            ]
          },
          "metadata": {
            "tags": []
          },
          "execution_count": 166
        }
      ]
    },
    {
      "cell_type": "code",
      "metadata": {
        "id": "_m60f5SQz2TJ",
        "outputId": "5c9607ba-7acd-4d8f-f7a7-c7e5f6f23742",
        "colab": {
          "base_uri": "https://localhost:8080/",
          "height": 419
        }
      },
      "source": [
        "df1.reset_index()"
      ],
      "execution_count": 167,
      "outputs": [
        {
          "output_type": "execute_result",
          "data": {
            "text/html": [
              "<div>\n",
              "<style scoped>\n",
              "    .dataframe tbody tr th:only-of-type {\n",
              "        vertical-align: middle;\n",
              "    }\n",
              "\n",
              "    .dataframe tbody tr th {\n",
              "        vertical-align: top;\n",
              "    }\n",
              "\n",
              "    .dataframe thead th {\n",
              "        text-align: right;\n",
              "    }\n",
              "</style>\n",
              "<table border=\"1\" class=\"dataframe\">\n",
              "  <thead>\n",
              "    <tr style=\"text-align: right;\">\n",
              "      <th></th>\n",
              "      <th>Customer ID</th>\n",
              "      <th>Recency</th>\n",
              "      <th>Frequency</th>\n",
              "      <th>MonetaryValue</th>\n",
              "      <th>R</th>\n",
              "      <th>F</th>\n",
              "      <th>M</th>\n",
              "      <th>RFM</th>\n",
              "      <th>rfm_score</th>\n",
              "      <th>Customer Category</th>\n",
              "    </tr>\n",
              "  </thead>\n",
              "  <tbody>\n",
              "    <tr>\n",
              "      <th>0</th>\n",
              "      <td>1</td>\n",
              "      <td>7.0</td>\n",
              "      <td>11.0</td>\n",
              "      <td>3018.090000</td>\n",
              "      <td>5</td>\n",
              "      <td>5</td>\n",
              "      <td>3</td>\n",
              "      <td>553</td>\n",
              "      <td>13</td>\n",
              "      <td>Champions/Top Customers</td>\n",
              "    </tr>\n",
              "    <tr>\n",
              "      <th>1</th>\n",
              "      <td>2</td>\n",
              "      <td>128.0</td>\n",
              "      <td>3.0</td>\n",
              "      <td>2226.260000</td>\n",
              "      <td>1</td>\n",
              "      <td>1</td>\n",
              "      <td>2</td>\n",
              "      <td>112</td>\n",
              "      <td>4</td>\n",
              "      <td>Lost Customers</td>\n",
              "    </tr>\n",
              "    <tr>\n",
              "      <th>2</th>\n",
              "      <td>3</td>\n",
              "      <td>102.0</td>\n",
              "      <td>8.0</td>\n",
              "      <td>3362.810000</td>\n",
              "      <td>1</td>\n",
              "      <td>4</td>\n",
              "      <td>4</td>\n",
              "      <td>144</td>\n",
              "      <td>9</td>\n",
              "      <td>Lost Customers</td>\n",
              "    </tr>\n",
              "    <tr>\n",
              "      <th>3</th>\n",
              "      <td>4</td>\n",
              "      <td>195.0</td>\n",
              "      <td>2.0</td>\n",
              "      <td>220.570000</td>\n",
              "      <td>1</td>\n",
              "      <td>1</td>\n",
              "      <td>1</td>\n",
              "      <td>111</td>\n",
              "      <td>3</td>\n",
              "      <td>Lost Customers</td>\n",
              "    </tr>\n",
              "    <tr>\n",
              "      <th>4</th>\n",
              "      <td>5</td>\n",
              "      <td>16.0</td>\n",
              "      <td>6.0</td>\n",
              "      <td>2394.940000</td>\n",
              "      <td>4</td>\n",
              "      <td>3</td>\n",
              "      <td>2</td>\n",
              "      <td>432</td>\n",
              "      <td>9</td>\n",
              "      <td>New Customers</td>\n",
              "    </tr>\n",
              "    <tr>\n",
              "      <th>...</th>\n",
              "      <td>...</td>\n",
              "      <td>...</td>\n",
              "      <td>...</td>\n",
              "      <td>...</td>\n",
              "      <td>...</td>\n",
              "      <td>...</td>\n",
              "      <td>...</td>\n",
              "      <td>...</td>\n",
              "      <td>...</td>\n",
              "      <td>...</td>\n",
              "    </tr>\n",
              "    <tr>\n",
              "      <th>3489</th>\n",
              "      <td>3497</td>\n",
              "      <td>52.0</td>\n",
              "      <td>3.0</td>\n",
              "      <td>1648.320000</td>\n",
              "      <td>3</td>\n",
              "      <td>1</td>\n",
              "      <td>2</td>\n",
              "      <td>312</td>\n",
              "      <td>6</td>\n",
              "      <td>At-Risk Customers</td>\n",
              "    </tr>\n",
              "    <tr>\n",
              "      <th>3490</th>\n",
              "      <td>3498</td>\n",
              "      <td>127.0</td>\n",
              "      <td>6.0</td>\n",
              "      <td>3147.330000</td>\n",
              "      <td>1</td>\n",
              "      <td>3</td>\n",
              "      <td>3</td>\n",
              "      <td>133</td>\n",
              "      <td>7</td>\n",
              "      <td>At-Risk Customers</td>\n",
              "    </tr>\n",
              "    <tr>\n",
              "      <th>3491</th>\n",
              "      <td>3499</td>\n",
              "      <td>51.0</td>\n",
              "      <td>7.0</td>\n",
              "      <td>4955.250000</td>\n",
              "      <td>3</td>\n",
              "      <td>4</td>\n",
              "      <td>5</td>\n",
              "      <td>345</td>\n",
              "      <td>12</td>\n",
              "      <td>Champions/Top Customers</td>\n",
              "    </tr>\n",
              "    <tr>\n",
              "      <th>3492</th>\n",
              "      <td>3500</td>\n",
              "      <td>144.0</td>\n",
              "      <td>6.0</td>\n",
              "      <td>1785.860000</td>\n",
              "      <td>1</td>\n",
              "      <td>3</td>\n",
              "      <td>2</td>\n",
              "      <td>132</td>\n",
              "      <td>6</td>\n",
              "      <td>At-Risk Customers</td>\n",
              "    </tr>\n",
              "    <tr>\n",
              "      <th>3493</th>\n",
              "      <td>5034</td>\n",
              "      <td>84.0</td>\n",
              "      <td>3.0</td>\n",
              "      <td>269.484972</td>\n",
              "      <td>2</td>\n",
              "      <td>1</td>\n",
              "      <td>1</td>\n",
              "      <td>211</td>\n",
              "      <td>4</td>\n",
              "      <td>Lost Customers</td>\n",
              "    </tr>\n",
              "  </tbody>\n",
              "</table>\n",
              "<p>3494 rows × 10 columns</p>\n",
              "</div>"
            ],
            "text/plain": [
              "      Customer ID  Recency  Frequency  ...  RFM rfm_score        Customer Category\n",
              "0               1      7.0       11.0  ...  553        13  Champions/Top Customers\n",
              "1               2    128.0        3.0  ...  112         4           Lost Customers\n",
              "2               3    102.0        8.0  ...  144         9           Lost Customers\n",
              "3               4    195.0        2.0  ...  111         3           Lost Customers\n",
              "4               5     16.0        6.0  ...  432         9            New Customers\n",
              "...           ...      ...        ...  ...  ...       ...                      ...\n",
              "3489         3497     52.0        3.0  ...  312         6        At-Risk Customers\n",
              "3490         3498    127.0        6.0  ...  133         7        At-Risk Customers\n",
              "3491         3499     51.0        7.0  ...  345        12  Champions/Top Customers\n",
              "3492         3500    144.0        6.0  ...  132         6        At-Risk Customers\n",
              "3493         5034     84.0        3.0  ...  211         4           Lost Customers\n",
              "\n",
              "[3494 rows x 10 columns]"
            ]
          },
          "metadata": {
            "tags": []
          },
          "execution_count": 167
        }
      ]
    },
    {
      "cell_type": "code",
      "metadata": {
        "id": "7-de4wcpylTI"
      },
      "source": [
        "df1.to_csv(\"/content/output1.csv\", index=True)"
      ],
      "execution_count": 170,
      "outputs": []
    },
    {
      "cell_type": "code",
      "metadata": {
        "id": "miZScWfUz9vh"
      },
      "source": [
        ""
      ],
      "execution_count": null,
      "outputs": []
    }
  ]
}